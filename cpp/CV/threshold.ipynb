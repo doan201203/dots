{
 "cells": [
  {
   "cell_type": "code",
   "execution_count": 40,
   "metadata": {},
   "outputs": [
    {
     "name": "stdout",
     "output_type": "stream",
     "text": [
      "37\n",
      "37\n"
     ]
    }
   ],
   "source": [
    "import os\n",
    "import cv2\n",
    "import matplotlib.pyplot as plt\n",
    "import numpy as np\n",
    "from sklearn.model_selection import train_test_split\n",
    "import random\n",
    "\n",
    "B_all = []\n",
    "B_images = []\n",
    "tdiachua = []\n",
    "tgiaykhangsinh = []\n",
    "tvungvokhuan = []\n",
    "\n",
    "images_path = os.path.join(os.getcwd(), '/home/trdoan20/dev/cpp/CV/ImageSets/')\n",
    "annotations_path = os.path.join(os.getcwd(), '/home/trdoan20/dev/cpp/CV/SegmentationClass/')\n",
    "\n",
    "images_name = os.listdir(images_path)\n",
    "annotations_name = os.listdir(annotations_path)\n",
    "\n",
    "images_name_train, images_name_test, annotations_name_train, annotations_name_test = [], [], [], []\n",
    "# print(images_name_train == annotations_name_train)\n",
    "# base_dir = '/home/tdoan20/dev/cpp/CV/ImageBase/notblood/'\n",
    "# os.chdir(working_dir)\n",
    "# !ls\n",
    "names = []\n",
    "au = os.walk(images_path)\n",
    "rate = 37\n",
    "for (roots, dir, files) in au:\n",
    "    for name in files:\n",
    "        names.append(name.replace('.jpg', ''))\n",
    "p = random.sample(names, 37)\n",
    "for i in names:\n",
    "    if i in p:\n",
    "        images_name_train.append(i+'.jpg')\n",
    "        annotations_name_train.append(i+'.png')\n",
    "    else:\n",
    "        images_name_test.append(i+'.jpg')\n",
    "        annotations_name_test.append(i+'.png')\n",
    "# print(names)\n",
    "# training_images_names = []\n",
    "# test_images_names = []\n",
    "\n",
    "# training_annotation_names = []\n",
    "# test_annotation_names = []\n",
    "\n",
    "print(len(images_name_train))\n",
    "print(len(annotations_name_train))"
   ]
  },
  {
   "cell_type": "markdown",
   "metadata": {},
   "source": [
    "### Doc Image"
   ]
  },
  {
   "cell_type": "code",
   "execution_count": 30,
   "metadata": {},
   "outputs": [],
   "source": [
    "def docImage(filename):\n",
    "    image_path = os.path.join(images_path, filename)\n",
    "    # print(image_path)\n",
    "    image = cv2.imread(image_path)\n",
    "    # plt.imshow(image)\n",
    "    return image"
   ]
  },
  {
   "cell_type": "markdown",
   "metadata": {},
   "source": [
    "### 3 Doc Truth Image"
   ]
  },
  {
   "cell_type": "code",
   "execution_count": 31,
   "metadata": {},
   "outputs": [],
   "source": [
    "\n",
    "def docTruthImage(filename):\n",
    "    ano_path = os.path.join(annotations_path, filename)\n",
    "    anotati = cv2.imread(ano_path)\n",
    "    return anotati\n",
    "    plt.imshow(anotation)\n"
   ]
  },
  {
   "cell_type": "markdown",
   "metadata": {},
   "source": [
    "### Thay patern theo labelmap.txt cho từng class"
   ]
  },
  {
   "cell_type": "code",
   "execution_count": 46,
   "metadata": {},
   "outputs": [],
   "source": [
    "patern = [102,255,102]\n",
    "# Blue, Red, Green = [], [], []\n",
    "B_imgs = [[], [], []]\n",
    "# ii = docImage('luma_box8_82837cfd-e217-4cf7-97fb-353adc4ed2c6.jpg')\n",
    "# aa = docTruthImage('luma_box8_82837cfd-e217-4cf7-97fb-353adc4ed2c6.png')\n",
    "# plt.imshow(aa)\n",
    "# # colors = np.unique(aa[:,:,0])\n",
    "# # print(colors)\n",
    "# vvk = aa[:, :, 0].copy()\n",
    "# vvk[np.where(vvk==102)] = 0\n",
    "# Bt = np.array(ii[:,:,0])\n",
    "# Bt[np.where(vvk==0)] = 0\n",
    "# plt.imshow(Bt)\n",
    "for i in images_name_train:\n",
    "    img = docImage(i)\n",
    "    j = i\n",
    "    ano = docTruthImage(j.replace('jpg', 'png'))\n",
    "    for k in range(3):\n",
    "        vvk = ano[:,:,k].copy()\n",
    "        vvk[np.where(vvk != patern[k])] = 0\n",
    "        Bt = np.array(img[:, :, k])\n",
    "        Bt[vvk==0] = 0\n",
    "        Bt = Bt[:]\n",
    "        B_imgs[k].append(Bt[Bt>0])"
   ]
  },
  {
   "cell_type": "code",
   "execution_count": 47,
   "metadata": {},
   "outputs": [
    {
     "name": "stdout",
     "output_type": "stream",
     "text": [
      "3\n",
      "[32.2084267449019, 39.6612831004534, 44.30325282389873] [65.21472150134665, 76.36149918574242, 79.72290027683793]\n"
     ]
    }
   ],
   "source": [
    "print(len(B_imgs))\n",
    "MIN, MAX = [], []\n",
    "for i in range(3):\n",
    "    B_alll = np.concatenate(B_imgs[i])\n",
    "    B_mean = np.mean(B_alll)\n",
    "    B_std = np.std(B_alll)\n",
    "    Low = B_mean - B_std\n",
    "    High = B_mean + B_std\n",
    "    MIN.append(Low)\n",
    "    MAX.append(High)\n",
    "print(MIN, MAX)"
   ]
  },
  {
   "cell_type": "code",
   "execution_count": null,
   "metadata": {},
   "outputs": [],
   "source": [
    "images_test = []\n",
    "annotations_test = []\n",
    "    \n",
    "for image_name in images_name_test:\n",
    "    images_test.append(cv2.imread(os.path.join(images_path, image_name)))\n",
    "\n",
    "for annotation_name in annotations_name_test:\n",
    "    annotations_test.append(cv2.imread(os.path.join(annotations_path, annotation_name)))"
   ]
  },
  {
   "cell_type": "code",
   "execution_count": null,
   "metadata": {},
   "outputs": [],
   "source": [
    "import matplotlib.pyplot as plt\n",
    "\n",
    "mask = model.predict(images_test[0], 'DiaChua')\n",
    "plt.subplot(1, 2, 1)\n",
    "plt.imshow(cv2.cvtColor(images_test[0], cv2.COLOR_BGR2RGB))\n",
    "plt.subplot(1, 2, 2)\n",
    "plt.imshow(cv2.cvtColor(mask, cv2.COLOR_BGR2RGB))"
   ]
  },
  {
   "cell_type": "markdown",
   "metadata": {},
   "source": [
    "im = docImage()"
   ]
  },
  {
   "cell_type": "code",
   "execution_count": 39,
   "metadata": {},
   "outputs": [
    {
     "name": "stdout",
     "output_type": "stream",
     "text": [
      "[  0 102 240 255]\n"
     ]
    },
    {
     "data": {
      "text/plain": [
       "<matplotlib.image.AxesImage at 0x745084764f10>"
      ]
     },
     "execution_count": 39,
     "metadata": {},
     "output_type": "execute_result"
    },
    {
     "data": {
      "image/png": "[encoded data removed]",
      "text/plain": [
       "<Figure size 640x480 with 3 Axes>"
      ]
     },
     "metadata": {},
     "output_type": "display_data"
    }
   ],
   "source": [
    "im = docImage(images_name_test[0])\n",
    "plt.subplot(1, 3, 1)\n",
    "plt.title(\"Original\")\n",
    "plt.xticks([]), plt.yticks([])\n",
    "\n",
    "on = docTruthImage(annotations_name_test[0])\n",
    "plt.imshow(on)\n",
    "noo = np.array(on[:, :, 0])\n",
    "noo[np.where(noo!=255)]=0\n",
    "plt.subplot(1, 3, 2)\n",
    "plt.title(\"Apply T = 255\")\n",
    "plt.xticks([]), plt.yticks([])\n",
    "plt.imshow(noo)\n",
    "no2 = np.array(on[:, :, 0])\n",
    "print(np.unique(no2))\n",
    "no2[np.where(no2!=102)]=0\n",
    "plt.subplot(1, 3, 3)\n",
    "plt.title(\"Apply T = 221\")\n",
    "plt.xticks([]), plt.yticks([])\n",
    "plt.imshow(no2)\n"
   ]
  }
 ],
 "metadata": {
  "kernelspec": {
   "display_name": "Python 3",
   "language": "python",
   "name": "python3"
  },
  "language_info": {
   "codemirror_mode": {
    "name": "ipython",
    "version": 3
   },
   "file_extension": ".py",
   "mimetype": "text/x-python",
   "name": "python",
   "nbconvert_exporter": "python",
   "pygments_lexer": "ipython3",
   "version": "3.11.5"
  },
  "orig_nbformat": 4
 },
 "nbformat": 4,
 "nbformat_minor": 2
}
