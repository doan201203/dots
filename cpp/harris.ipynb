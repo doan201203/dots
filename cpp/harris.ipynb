{
 "cells": [
  {
   "cell_type": "code",
   "execution_count": null,
   "metadata": {},
   "outputs": [],
   "source": [
    "import argparse\n",
    "import cv2\n",
    "import numpy as np"
   ]
  },
  {
   "cell_type": "code",
   "execution_count": null,
   "metadata": {},
   "outputs": [],
   "source": [
    "def find_harris_corners(input_img, k, window_size, threshold):\n",
    "    \n",
    "    corner_list = []\n",
    "    output_img = cv2.cvtColor(input_img.copy(), cv2.COLOR_GRAY2RGB)\n",
    "    \n",
    "    offset = int(window_size/2)\n",
    "    y_range = input_img.shape[0] - offset\n",
    "    x_range = input_img.shape[1] - offset\n",
    "    \n",
    "    \n",
    "    dy, dx = np.gradient(input_img)\n",
    "    Ixx = dx**2\n",
    "    Ixy = dy*dx\n",
    "    Iyy = dy**2\n",
    "    \n",
    "    \n",
    "    for y in range(offset, y_range):\n",
    "        for x in range(offset, x_range):\n",
    "            \n",
    "            #Values of sliding window\n",
    "            start_y = y - offset\n",
    "            end_y = y + offset + 1\n",
    "            start_x = x - offset\n",
    "            end_x = x + offset + 1\n",
    "            \n",
    "            #The variable names are representative to \n",
    "            #the variable of the Harris corner equation\n",
    "            windowIxx = Ixx[start_y : end_y, start_x : end_x]\n",
    "            windowIxy = Ixy[start_y : end_y, start_x : end_x]\n",
    "            windowIyy = Iyy[start_y : end_y, start_x : end_x]\n",
    "            \n",
    "            #Sum of squares of intensities of partial derevatives \n",
    "            Sxx = windowIxx.sum()\n",
    "            Sxy = windowIxy.sum()\n",
    "            Syy = windowIyy.sum()\n",
    "\n",
    "            #Calculate determinant and trace of the matrix\n",
    "            det = (Sxx * Syy) - (Sxy**2)\n",
    "            trace = Sxx + Syy\n",
    "            \n",
    "            #Calculate r for Harris Corner equation\n",
    "            r = det - k*(trace**2)\n",
    "\n",
    "            if r > threshold:\n",
    "                corner_list.append([x, y, r])\n",
    "                output_img[y,x] = (0,0,255)\n",
    "    \n",
    "    return corner_list, output_img \n"
   ]
  },
  {
   "cell_type": "code",
   "execution_count": null,
   "metadata": {},
   "outputs": [],
   "source": []
  }
 ],
 "metadata": {
  "language_info": {
   "name": "python"
  },
  "orig_nbformat": 4
 },
 "nbformat": 4,
 "nbformat_minor": 2
}
